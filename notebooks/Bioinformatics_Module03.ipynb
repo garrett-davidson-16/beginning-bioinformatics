{
  "nbformat": 4,
  "nbformat_minor": 0,
  "metadata": {
    "colab": {
      "provenance": [],
      "authorship_tag": "ABX9TyP/jHj4Ci/FnimN+zLT/kvl",
      "include_colab_link": true
    },
    "kernelspec": {
      "name": "python3",
      "display_name": "Python 3"
    },
    "language_info": {
      "name": "python"
    }
  },
  "cells": [
    {
      "cell_type": "markdown",
      "metadata": {
        "id": "view-in-github",
        "colab_type": "text"
      },
      "source": [
        "<a href=\"https://colab.research.google.com/github/garrett-davidson-16/beginning-bioinformatics/blob/main/notebooks/Bioinformatics_Module03.ipynb\" target=\"_parent\"><img src=\"https://colab.research.google.com/assets/colab-badge.svg\" alt=\"Open In Colab\"/></a>"
      ]
    },
    {
      "cell_type": "code",
      "execution_count": null,
      "metadata": {
        "colab": {
          "base_uri": "https://localhost:8080/"
        },
        "id": "MFwQkXm0lvs6",
        "outputId": "853155ac-4516-4094-9de1-5e8230e3953d"
      },
      "outputs": [
        {
          "output_type": "stream",
          "name": "stdout",
          "text": [
            "hello world\n"
          ]
        }
      ],
      "source": [
        "print (\"hello world\")"
      ]
    },
    {
      "cell_type": "code",
      "source": [
        "a=2\n",
        "b=3\n",
        "c = a**2 + b**2\n",
        "print(c)"
      ],
      "metadata": {
        "colab": {
          "base_uri": "https://localhost:8080/"
        },
        "id": "fPwZGVZqmDyt",
        "outputId": "dded76c3-1127-4015-aa2b-309928049275"
      },
      "execution_count": null,
      "outputs": [
        {
          "output_type": "stream",
          "name": "stdout",
          "text": [
            "13\n"
          ]
        }
      ]
    },
    {
      "cell_type": "code",
      "metadata": {
        "id": "0b4ca17b",
        "colab": {
          "base_uri": "https://localhost:8080/"
        },
        "outputId": "4a82f80e-c30d-4736-d10e-7f072ab84202"
      },
      "source": [
        "name = input(\"Enter your name: \")\n",
        "print(\"Hello, \" + name)"
      ],
      "execution_count": null,
      "outputs": [
        {
          "output_type": "stream",
          "name": "stdout",
          "text": [
            "Enter your name: Allison\n",
            "Hello, Allison\n"
          ]
        }
      ]
    },
    {
      "cell_type": "code",
      "source": [
        "a = int(input(\"a= \"))\n",
        "b = int(input(\"b= \"))\n",
        "c = a**2 + b**2\n",
        "print (\"The square of the hypotenuse is\",c)"
      ],
      "metadata": {
        "colab": {
          "base_uri": "https://localhost:8080/"
        },
        "id": "I1gZ6QEh--ii",
        "outputId": "88e5cb70-dc37-480d-eeff-a5026fde4990"
      },
      "execution_count": null,
      "outputs": [
        {
          "output_type": "stream",
          "name": "stdout",
          "text": [
            "a= 3\n",
            "b= 4\n",
            "The square of the hypotenuse is 25\n"
          ]
        }
      ]
    },
    {
      "cell_type": "code",
      "source": [
        "my_list = [\"Hello\", \"World\", \"Charles Darwin\"]\n",
        "print(my_list[1])"
      ],
      "metadata": {
        "id": "KB8SKdI5_0wp",
        "colab": {
          "base_uri": "https://localhost:8080/"
        },
        "outputId": "741c1871-7bdc-4d47-87d1-4f65998f2d42"
      },
      "execution_count": null,
      "outputs": [
        {
          "output_type": "stream",
          "name": "stdout",
          "text": [
            "World\n"
          ]
        }
      ]
    },
    {
      "cell_type": "code",
      "source": [
        "my_list[2] = \"Alfred Wallace\"\n",
        "print(my_list)"
      ],
      "metadata": {
        "colab": {
          "base_uri": "https://localhost:8080/"
        },
        "id": "bG8hoLWrE9c9",
        "outputId": "7fb2b47b-81d7-441e-8c74-39c91d912cd4"
      },
      "execution_count": null,
      "outputs": [
        {
          "output_type": "stream",
          "name": "stdout",
          "text": [
            "['Hello', 'World', 'Alfred Wallace']\n"
          ]
        }
      ]
    },
    {
      "cell_type": "code",
      "source": [
        "my_list.append(\"Charles Dawin\")\n",
        "print(my_list)"
      ],
      "metadata": {
        "colab": {
          "base_uri": "https://localhost:8080/"
        },
        "id": "1AdyN0cvFqpf",
        "outputId": "fccfcbe9-f633-4e4b-b3dc-18507e0aa329"
      },
      "execution_count": null,
      "outputs": [
        {
          "output_type": "stream",
          "name": "stdout",
          "text": [
            "['Hello', 'World', 'Alfred Wallace', 'Charles Dawin']\n"
          ]
        }
      ]
    },
    {
      "cell_type": "code",
      "source": [
        "my_list[0:1] = \"Biology\"\n",
        "print (my_list)"
      ],
      "metadata": {
        "colab": {
          "base_uri": "https://localhost:8080/"
        },
        "id": "as56odZhGe0D",
        "outputId": "572da0df-1c94-4116-da76-762840b7dadf"
      },
      "execution_count": null,
      "outputs": [
        {
          "output_type": "stream",
          "name": "stdout",
          "text": [
            "['B', 'i', 'o', 'l', 'o', 'g', 'y', 'i', 'o', 'l', 'o', 'g', 'y', 'World', 'Alfred Wallace', 'Charles Dawin']\n"
          ]
        }
      ]
    },
    {
      "cell_type": "code",
      "source": [
        "my_list.remove (\"B\")\n",
        "print (my_list)"
      ],
      "metadata": {
        "colab": {
          "base_uri": "https://localhost:8080/"
        },
        "id": "dYtTiIeYHMq2",
        "outputId": "bb3cff25-c8f4-41af-cb5d-8c1e29991a6b"
      },
      "execution_count": null,
      "outputs": [
        {
          "output_type": "stream",
          "name": "stdout",
          "text": [
            "['i', 'o', 'l', 'o', 'g', 'y', 'i', 'o', 'l', 'o', 'g', 'y', 'World', 'Alfred Wallace', 'Charles Dawin']\n"
          ]
        }
      ]
    },
    {
      "cell_type": "code",
      "source": [
        "my_list.remove (\"i\")\n",
        "print (my_list)"
      ],
      "metadata": {
        "colab": {
          "base_uri": "https://localhost:8080/"
        },
        "id": "WNJ_6jfMH1iA",
        "outputId": "db92ef84-3e6f-459f-ac55-98aeaead80dc"
      },
      "execution_count": null,
      "outputs": [
        {
          "output_type": "stream",
          "name": "stdout",
          "text": [
            "['o', 'l', 'o', 'g', 'y', 'i', 'o', 'l', 'o', 'g', 'y', 'World', 'Alfred Wallace', 'Charles Dawin']\n"
          ]
        }
      ]
    },
    {
      "cell_type": "code",
      "source": [
        "my_list.remove (\"o\")\n",
        "print (my_list)"
      ],
      "metadata": {
        "colab": {
          "base_uri": "https://localhost:8080/"
        },
        "id": "sDKyoPHPJN2T",
        "outputId": "bfb5402e-bddd-4c78-bef8-2b9d2e5706d6"
      },
      "execution_count": null,
      "outputs": [
        {
          "output_type": "stream",
          "name": "stdout",
          "text": [
            "['l', 'o', 'g', 'y', 'i', 'o', 'l', 'o', 'g', 'y', 'World', 'Alfred Wallace', 'Charles Dawin']\n"
          ]
        }
      ]
    },
    {
      "cell_type": "code",
      "source": [
        "my_list.remove (\"l\")\n",
        "my_list.remove (\"o\")\n",
        "my_list.remove (\"g\")\n",
        "my_list.remove (\"y\")\n",
        "my_list.remove (\"i\")\n",
        "my_list.remove (\"o\")\n",
        "my_list.remove (\"l\")\n",
        "my_list.remove (\"o\")\n",
        "my_list.remove (\"g\")\n",
        "my_list.remove (\"y\")\n",
        "print (my_list)"
      ],
      "metadata": {
        "colab": {
          "base_uri": "https://localhost:8080/"
        },
        "id": "o0vk3XBLJT90",
        "outputId": "bef02af8-7019-4eaa-c02e-23d8abda566b"
      },
      "execution_count": null,
      "outputs": [
        {
          "output_type": "stream",
          "name": "stdout",
          "text": [
            "['World', 'Alfred Wallace', 'Charles Dawin']\n"
          ]
        }
      ]
    },
    {
      "cell_type": "markdown",
      "source": [],
      "metadata": {
        "id": "Y3ESi8voJ-E8"
      }
    },
    {
      "cell_type": "code",
      "source": [
        "my_list.insert (0, \"Hello\")\n",
        "print (my_list)"
      ],
      "metadata": {
        "colab": {
          "base_uri": "https://localhost:8080/"
        },
        "id": "gbNfG1NGJhsu",
        "outputId": "334a8e38-b23e-48b0-954e-51e9f59583a9"
      },
      "execution_count": null,
      "outputs": [
        {
          "output_type": "stream",
          "name": "stdout",
          "text": [
            "['Hello', 'World', 'Alfred Wallace', 'Charles Dawin']\n"
          ]
        }
      ]
    },
    {
      "cell_type": "markdown",
      "source": [],
      "metadata": {
        "id": "Wd3_O8JSJlxb"
      }
    },
    {
      "cell_type": "code",
      "source": [
        "my_list.insert (1, \"Biology\")\n",
        "print (my_list)"
      ],
      "metadata": {
        "colab": {
          "base_uri": "https://localhost:8080/"
        },
        "id": "rJw80fgjKJHO",
        "outputId": "d858a524-f755-48d5-b2d1-8e94a4287cc0"
      },
      "execution_count": 39,
      "outputs": [
        {
          "output_type": "stream",
          "name": "stdout",
          "text": [
            "['Hello', 'Biology', 'Hello', 'Hello', 'World', 'Alfred Wallace', 'Charles Dawin']\n"
          ]
        }
      ]
    },
    {
      "cell_type": "code",
      "source": [
        "my_list.remove ('Hello')\n",
        "print (my_list)"
      ],
      "metadata": {
        "colab": {
          "base_uri": "https://localhost:8080/"
        },
        "id": "aaU3EnzEKN6v",
        "outputId": "292fe989-4710-4f89-f522-1dc4e3fe6b1c"
      },
      "execution_count": 44,
      "outputs": [
        {
          "output_type": "stream",
          "name": "stdout",
          "text": [
            "['Biology', 'World', 'Alfred Wallace', 'Charles Dawin']\n"
          ]
        }
      ]
    },
    {
      "cell_type": "code",
      "source": [
        "my_list.insert (0, \"Hello\")\n",
        "print (my_list )"
      ],
      "metadata": {
        "colab": {
          "base_uri": "https://localhost:8080/"
        },
        "id": "taSoXfGMKcaA",
        "outputId": "3bffe5fa-bc35-4317-83bd-864b951f4830"
      },
      "execution_count": 45,
      "outputs": [
        {
          "output_type": "stream",
          "name": "stdout",
          "text": [
            "['Hello', 'Biology', 'World', 'Alfred Wallace', 'Charles Dawin']\n"
          ]
        }
      ]
    },
    {
      "cell_type": "code",
      "source": [
        "print (my_list[2:4])"
      ],
      "metadata": {
        "colab": {
          "base_uri": "https://localhost:8080/"
        },
        "id": "_fR7zpD6K7kD",
        "outputId": "d43e0b1b-c3e7-44cd-b3ec-012861a5f06c"
      },
      "execution_count": 46,
      "outputs": [
        {
          "output_type": "stream",
          "name": "stdout",
          "text": [
            "['World', 'Alfred Wallace']\n"
          ]
        }
      ]
    },
    {
      "cell_type": "code",
      "source": [
        "my_string = \"HelloWorldCharlesDarwinAlfred R. Wallace\"\n",
        "print (my_string[0:5],my_string [5:10])"
      ],
      "metadata": {
        "colab": {
          "base_uri": "https://localhost:8080/"
        },
        "id": "vQMWL-pbLDX3",
        "outputId": "8cd2bfe5-bc61-42de-d3dd-04db42c6d13b"
      },
      "execution_count": 48,
      "outputs": [
        {
          "output_type": "stream",
          "name": "stdout",
          "text": [
            "Hello World\n"
          ]
        }
      ]
    },
    {
      "cell_type": "code",
      "source": [
        "print (my_string [33:], my_string [5:10])"
      ],
      "metadata": {
        "colab": {
          "base_uri": "https://localhost:8080/"
        },
        "id": "v6g-iGytLiAW",
        "outputId": "da6c939d-48a8-44e3-cfb8-fccd3d03f519"
      },
      "execution_count": 49,
      "outputs": [
        {
          "output_type": "stream",
          "name": "stdout",
          "text": [
            "Wallace World\n"
          ]
        }
      ]
    },
    {
      "cell_type": "code",
      "source": [
        "my_string = \"vH3WliMNlGt1ZUlvy70Gallinagoa2cfsKTgL2KhoDcXCpVyqRZhXVQYyOyaQz51s5L0nJBarvensisMIkSiRjGjteOivi7OolSuIvNK8xxq7ZuzhfYkkjIYa4lqIlUsM9VLXdDsqO71LvDE1CZxDcmKOcVyU3NxFQK26BLu4\"\n",
        "print (my_string [19:28],my_string [71:79])"
      ],
      "metadata": {
        "colab": {
          "base_uri": "https://localhost:8080/"
        },
        "id": "5GzfaoxaLyCd",
        "outputId": "ea41208f-7d1e-4509-d21f-b34b81e20df1"
      },
      "execution_count": 50,
      "outputs": [
        {
          "output_type": "stream",
          "name": "stdout",
          "text": [
            "Gallinago arvensis\n"
          ]
        }
      ]
    },
    {
      "cell_type": "code",
      "source": [],
      "metadata": {
        "id": "yQwcnj79MYXD"
      },
      "execution_count": null,
      "outputs": []
    }
  ]
}