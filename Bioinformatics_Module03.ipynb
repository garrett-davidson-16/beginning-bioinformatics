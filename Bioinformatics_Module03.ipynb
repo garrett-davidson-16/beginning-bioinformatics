{
  "cells": [
    {
      "cell_type": "markdown",
      "metadata": {
        "id": "view-in-github",
        "colab_type": "text"
      },
      "source": [
        "<a href=\"https://colab.research.google.com/github/garrett-davidson-16/beginning-bioinformatics/blob/main/Bioinformatics_Module03.ipynb\" target=\"_parent\"><img src=\"https://colab.research.google.com/assets/colab-badge.svg\" alt=\"Open In Colab\"/></a>"
      ]
    },
    {
      "cell_type": "code",
      "execution_count": null,
      "metadata": {
        "colab": {
          "base_uri": "https://localhost:8080/"
        },
        "id": "MFwQkXm0lvs6",
        "outputId": "853155ac-4516-4094-9de1-5e8230e3953d"
      },
      "outputs": [
        {
          "name": "stdout",
          "output_type": "stream",
          "text": [
            "hello world\n"
          ]
        }
      ],
      "source": [
        "print (\"hello world\")"
      ]
    },
    {
      "cell_type": "code",
      "execution_count": null,
      "metadata": {
        "colab": {
          "base_uri": "https://localhost:8080/"
        },
        "id": "fPwZGVZqmDyt",
        "outputId": "dded76c3-1127-4015-aa2b-309928049275"
      },
      "outputs": [
        {
          "name": "stdout",
          "output_type": "stream",
          "text": [
            "13\n"
          ]
        }
      ],
      "source": [
        "a=2\n",
        "b=3\n",
        "c = a**2 + b**2\n",
        "print(c)"
      ]
    },
    {
      "cell_type": "code",
      "execution_count": null,
      "metadata": {
        "colab": {
          "base_uri": "https://localhost:8080/"
        },
        "id": "0b4ca17b",
        "outputId": "4a82f80e-c30d-4736-d10e-7f072ab84202"
      },
      "outputs": [
        {
          "name": "stdout",
          "output_type": "stream",
          "text": [
            "Enter your name: Allison\n",
            "Hello, Allison\n"
          ]
        }
      ],
      "source": [
        "name = input(\"Enter your name: \")\n",
        "print(\"Hello, \" + name)"
      ]
    },
    {
      "cell_type": "code",
      "execution_count": null,
      "metadata": {
        "colab": {
          "base_uri": "https://localhost:8080/"
        },
        "id": "I1gZ6QEh--ii",
        "outputId": "88e5cb70-dc37-480d-eeff-a5026fde4990"
      },
      "outputs": [
        {
          "name": "stdout",
          "output_type": "stream",
          "text": [
            "a= 3\n",
            "b= 4\n",
            "The square of the hypotenuse is 25\n"
          ]
        }
      ],
      "source": [
        "a = int(input(\"a= \"))\n",
        "b = int(input(\"b= \"))\n",
        "c = a**2 + b**2\n",
        "print (\"The square of the hypotenuse is\",c)"
      ]
    },
    {
      "cell_type": "code",
      "execution_count": null,
      "metadata": {
        "colab": {
          "base_uri": "https://localhost:8080/"
        },
        "id": "KB8SKdI5_0wp",
        "outputId": "741c1871-7bdc-4d47-87d1-4f65998f2d42"
      },
      "outputs": [
        {
          "name": "stdout",
          "output_type": "stream",
          "text": [
            "World\n"
          ]
        }
      ],
      "source": [
        "my_list = [\"Hello\", \"World\", \"Charles Darwin\"]\n",
        "print(my_list[1])"
      ]
    },
    {
      "cell_type": "code",
      "execution_count": null,
      "metadata": {
        "colab": {
          "base_uri": "https://localhost:8080/"
        },
        "id": "bG8hoLWrE9c9",
        "outputId": "7fb2b47b-81d7-441e-8c74-39c91d912cd4"
      },
      "outputs": [
        {
          "name": "stdout",
          "output_type": "stream",
          "text": [
            "['Hello', 'World', 'Alfred Wallace']\n"
          ]
        }
      ],
      "source": [
        "my_list[2] = \"Alfred Wallace\"\n",
        "print(my_list)"
      ]
    },
    {
      "cell_type": "code",
      "execution_count": null,
      "metadata": {
        "colab": {
          "base_uri": "https://localhost:8080/"
        },
        "id": "1AdyN0cvFqpf",
        "outputId": "fccfcbe9-f633-4e4b-b3dc-18507e0aa329"
      },
      "outputs": [
        {
          "name": "stdout",
          "output_type": "stream",
          "text": [
            "['Hello', 'World', 'Alfred Wallace', 'Charles Dawin']\n"
          ]
        }
      ],
      "source": [
        "my_list.append(\"Charles Dawin\")\n",
        "print(my_list)"
      ]
    },
    {
      "cell_type": "code",
      "execution_count": null,
      "metadata": {
        "colab": {
          "base_uri": "https://localhost:8080/"
        },
        "id": "as56odZhGe0D",
        "outputId": "572da0df-1c94-4116-da76-762840b7dadf"
      },
      "outputs": [
        {
          "name": "stdout",
          "output_type": "stream",
          "text": [
            "['B', 'i', 'o', 'l', 'o', 'g', 'y', 'i', 'o', 'l', 'o', 'g', 'y', 'World', 'Alfred Wallace', 'Charles Dawin']\n"
          ]
        }
      ],
      "source": [
        "my_list[0:1] = \"Biology\"\n",
        "print (my_list)"
      ]
    },
    {
      "cell_type": "code",
      "execution_count": null,
      "metadata": {
        "colab": {
          "base_uri": "https://localhost:8080/"
        },
        "id": "dYtTiIeYHMq2",
        "outputId": "bb3cff25-c8f4-41af-cb5d-8c1e29991a6b"
      },
      "outputs": [
        {
          "name": "stdout",
          "output_type": "stream",
          "text": [
            "['i', 'o', 'l', 'o', 'g', 'y', 'i', 'o', 'l', 'o', 'g', 'y', 'World', 'Alfred Wallace', 'Charles Dawin']\n"
          ]
        }
      ],
      "source": [
        "my_list.remove (\"B\")\n",
        "print (my_list)"
      ]
    },
    {
      "cell_type": "code",
      "execution_count": null,
      "metadata": {
        "colab": {
          "base_uri": "https://localhost:8080/"
        },
        "id": "WNJ_6jfMH1iA",
        "outputId": "db92ef84-3e6f-459f-ac55-98aeaead80dc"
      },
      "outputs": [
        {
          "name": "stdout",
          "output_type": "stream",
          "text": [
            "['o', 'l', 'o', 'g', 'y', 'i', 'o', 'l', 'o', 'g', 'y', 'World', 'Alfred Wallace', 'Charles Dawin']\n"
          ]
        }
      ],
      "source": [
        "my_list.remove (\"i\")\n",
        "print (my_list)"
      ]
    },
    {
      "cell_type": "code",
      "execution_count": null,
      "metadata": {
        "colab": {
          "base_uri": "https://localhost:8080/"
        },
        "id": "sDKyoPHPJN2T",
        "outputId": "bfb5402e-bddd-4c78-bef8-2b9d2e5706d6"
      },
      "outputs": [
        {
          "name": "stdout",
          "output_type": "stream",
          "text": [
            "['l', 'o', 'g', 'y', 'i', 'o', 'l', 'o', 'g', 'y', 'World', 'Alfred Wallace', 'Charles Dawin']\n"
          ]
        }
      ],
      "source": [
        "my_list.remove (\"o\")\n",
        "print (my_list)"
      ]
    },
    {
      "cell_type": "code",
      "execution_count": null,
      "metadata": {
        "colab": {
          "base_uri": "https://localhost:8080/"
        },
        "id": "o0vk3XBLJT90",
        "outputId": "bef02af8-7019-4eaa-c02e-23d8abda566b"
      },
      "outputs": [
        {
          "name": "stdout",
          "output_type": "stream",
          "text": [
            "['World', 'Alfred Wallace', 'Charles Dawin']\n"
          ]
        }
      ],
      "source": [
        "my_list.remove (\"l\")\n",
        "my_list.remove (\"o\")\n",
        "my_list.remove (\"g\")\n",
        "my_list.remove (\"y\")\n",
        "my_list.remove (\"i\")\n",
        "my_list.remove (\"o\")\n",
        "my_list.remove (\"l\")\n",
        "my_list.remove (\"o\")\n",
        "my_list.remove (\"g\")\n",
        "my_list.remove (\"y\")\n",
        "print (my_list)"
      ]
    },
    {
      "cell_type": "markdown",
      "metadata": {
        "id": "Y3ESi8voJ-E8"
      },
      "source": []
    },
    {
      "cell_type": "code",
      "execution_count": null,
      "metadata": {
        "colab": {
          "base_uri": "https://localhost:8080/"
        },
        "id": "gbNfG1NGJhsu",
        "outputId": "334a8e38-b23e-48b0-954e-51e9f59583a9"
      },
      "outputs": [
        {
          "name": "stdout",
          "output_type": "stream",
          "text": [
            "['Hello', 'World', 'Alfred Wallace', 'Charles Dawin']\n"
          ]
        }
      ],
      "source": [
        "my_list.insert (0, \"Hello\")\n",
        "print (my_list)"
      ]
    },
    {
      "cell_type": "markdown",
      "metadata": {
        "id": "Wd3_O8JSJlxb"
      },
      "source": []
    },
    {
      "cell_type": "code",
      "execution_count": null,
      "metadata": {
        "colab": {
          "base_uri": "https://localhost:8080/"
        },
        "id": "rJw80fgjKJHO",
        "outputId": "d858a524-f755-48d5-b2d1-8e94a4287cc0"
      },
      "outputs": [
        {
          "name": "stdout",
          "output_type": "stream",
          "text": [
            "['Hello', 'Biology', 'Hello', 'Hello', 'World', 'Alfred Wallace', 'Charles Dawin']\n"
          ]
        }
      ],
      "source": [
        "my_list.insert (1, \"Biology\")\n",
        "print (my_list)"
      ]
    },
    {
      "cell_type": "code",
      "execution_count": null,
      "metadata": {
        "colab": {
          "base_uri": "https://localhost:8080/"
        },
        "id": "aaU3EnzEKN6v",
        "outputId": "292fe989-4710-4f89-f522-1dc4e3fe6b1c"
      },
      "outputs": [
        {
          "name": "stdout",
          "output_type": "stream",
          "text": [
            "['Biology', 'World', 'Alfred Wallace', 'Charles Dawin']\n"
          ]
        }
      ],
      "source": [
        "my_list.remove ('Hello')\n",
        "print (my_list)"
      ]
    },
    {
      "cell_type": "code",
      "execution_count": null,
      "metadata": {
        "colab": {
          "base_uri": "https://localhost:8080/"
        },
        "id": "taSoXfGMKcaA",
        "outputId": "3bffe5fa-bc35-4317-83bd-864b951f4830"
      },
      "outputs": [
        {
          "name": "stdout",
          "output_type": "stream",
          "text": [
            "['Hello', 'Biology', 'World', 'Alfred Wallace', 'Charles Dawin']\n"
          ]
        }
      ],
      "source": [
        "my_list.insert (0, \"Hello\")\n",
        "print (my_list )"
      ]
    },
    {
      "cell_type": "code",
      "execution_count": null,
      "metadata": {
        "colab": {
          "base_uri": "https://localhost:8080/"
        },
        "id": "_fR7zpD6K7kD",
        "outputId": "d43e0b1b-c3e7-44cd-b3ec-012861a5f06c"
      },
      "outputs": [
        {
          "name": "stdout",
          "output_type": "stream",
          "text": [
            "['World', 'Alfred Wallace']\n"
          ]
        }
      ],
      "source": [
        "print (my_list[2:4])"
      ]
    },
    {
      "cell_type": "code",
      "execution_count": null,
      "metadata": {
        "colab": {
          "base_uri": "https://localhost:8080/"
        },
        "id": "vQMWL-pbLDX3",
        "outputId": "8cd2bfe5-bc61-42de-d3dd-04db42c6d13b"
      },
      "outputs": [
        {
          "name": "stdout",
          "output_type": "stream",
          "text": [
            "Hello World\n"
          ]
        }
      ],
      "source": [
        "my_string = \"HelloWorldCharlesDarwinAlfred R. Wallace\"\n",
        "print (my_string[0:5],my_string [5:10])"
      ]
    },
    {
      "cell_type": "code",
      "execution_count": null,
      "metadata": {
        "colab": {
          "base_uri": "https://localhost:8080/"
        },
        "id": "v6g-iGytLiAW",
        "outputId": "da6c939d-48a8-44e3-cfb8-fccd3d03f519"
      },
      "outputs": [
        {
          "name": "stdout",
          "output_type": "stream",
          "text": [
            "Wallace World\n"
          ]
        }
      ],
      "source": [
        "print (my_string [33:], my_string [5:10])"
      ]
    },
    {
      "cell_type": "code",
      "execution_count": null,
      "metadata": {
        "colab": {
          "base_uri": "https://localhost:8080/"
        },
        "id": "5GzfaoxaLyCd",
        "outputId": "ea41208f-7d1e-4509-d21f-b34b81e20df1"
      },
      "outputs": [
        {
          "name": "stdout",
          "output_type": "stream",
          "text": [
            "Gallinago arvensis\n"
          ]
        }
      ],
      "source": [
        "my_string = \"vH3WliMNlGt1ZUlvy70Gallinagoa2cfsKTgL2KhoDcXCpVyqRZhXVQYyOyaQz51s5L0nJBarvensisMIkSiRjGjteOivi7OolSuIvNK8xxq7ZuzhfYkkjIYa4lqIlUsM9VLXdDsqO71LvDE1CZxDcmKOcVyU3NxFQK26BLu4\"\n",
        "print (my_string [19:28],my_string [71:79])"
      ]
    },
    {
      "cell_type": "code",
      "execution_count": null,
      "metadata": {
        "colab": {
          "base_uri": "https://localhost:8080/"
        },
        "id": "yQwcnj79MYXD",
        "outputId": "e82bed74-5d65-4716-84c7-eccc06984407"
      },
      "outputs": [
        {
          "name": "stdout",
          "output_type": "stream",
          "text": [
            "10\n"
          ]
        }
      ],
      "source": [
        "a=5\n",
        "b=5\n",
        "\n",
        "if a!=b:\n",
        "    print (a-b)\n",
        "\n",
        "else:\n",
        "    print (a+b)"
      ]
    },
    {
      "cell_type": "code",
      "execution_count": 54,
      "metadata": {
        "colab": {
          "base_uri": "https://localhost:8080/"
        },
        "id": "sukJyPUlOE7F",
        "outputId": "75473af3-c914-4fb2-9692-7661f9cde18f"
      },
      "outputs": [
        {
          "output_type": "stream",
          "name": "stdout",
          "text": [
            "Counting!\n",
            "Counting!Counting!\n",
            "Counting!Counting!Counting!\n"
          ]
        }
      ],
      "source": [
        "#initiate a counter\n",
        "a = 1\n",
        "\n",
        "#print \"Counting!\" while a<=3\n",
        "while a <= 3:\n",
        "\n",
        "    print (\"Counting!\" * a)\n",
        "    a += 1\n"
      ]
    },
    {
      "cell_type": "code",
      "source": [
        "names = [\"Alice\",\"Bob\",\"Charley\"]\n",
        "\n",
        "for name in names:\n",
        "  print (\"Hello\", name)\n"
      ],
      "metadata": {
        "colab": {
          "base_uri": "https://localhost:8080/"
        },
        "id": "6-o14G7BPmsC",
        "outputId": "6d9ccf91-ee15-4dd2-a77b-b9e85dbce34b"
      },
      "execution_count": 56,
      "outputs": [
        {
          "output_type": "stream",
          "name": "stdout",
          "text": [
            "Hello Alice\n",
            "Hello Bob\n",
            "Hello Charley\n"
          ]
        }
      ]
    },
    {
      "cell_type": "markdown",
      "source": [],
      "metadata": {
        "id": "ZKSD0a1LQGpd"
      }
    },
    {
      "cell_type": "code",
      "source": [
        "iterations = 10\n",
        "for number in range(iterations):\n",
        "  print (number)\n"
      ],
      "metadata": {
        "colab": {
          "base_uri": "https://localhost:8080/"
        },
        "id": "TsQTIW-xQV5R",
        "outputId": "3c306b0f-9f91-4d1c-caa0-b0d9133ad8eb"
      },
      "execution_count": 58,
      "outputs": [
        {
          "output_type": "stream",
          "name": "stdout",
          "text": [
            "0\n",
            "1\n",
            "2\n",
            "3\n",
            "4\n",
            "5\n",
            "6\n",
            "7\n",
            "8\n",
            "9\n"
          ]
        }
      ]
    },
    {
      "cell_type": "code",
      "source": [
        "for number in range(9,28,3):\n",
        "  print (number)"
      ],
      "metadata": {
        "colab": {
          "base_uri": "https://localhost:8080/"
        },
        "id": "gK0YN572Qkl0",
        "outputId": "5eebd732-b1f6-4335-c86d-f2eacd0e0d8f"
      },
      "execution_count": 60,
      "outputs": [
        {
          "output_type": "stream",
          "name": "stdout",
          "text": [
            "9\n",
            "12\n",
            "15\n",
            "18\n",
            "21\n",
            "24\n",
            "27\n"
          ]
        }
      ]
    },
    {
      "cell_type": "code",
      "source": [
        "total= 0\n",
        "for number in range(101,200,2):\n",
        "  total += number\n",
        "print (total)"
      ],
      "metadata": {
        "colab": {
          "base_uri": "https://localhost:8080/"
        },
        "id": "GtFVErmlRRwm",
        "outputId": "45bdd85d-d768-4b26-8b07-7749164a698c"
      },
      "execution_count": 72,
      "outputs": [
        {
          "output_type": "stream",
          "name": "stdout",
          "text": [
            "7500\n"
          ]
        }
      ]
    },
    {
      "cell_type": "code",
      "source": [
        "total= 0\n",
        "for number in range(4311,8674,2):\n",
        "  total += number\n",
        "print (total)"
      ],
      "metadata": {
        "colab": {
          "base_uri": "https://localhost:8080/"
        },
        "id": "-lQxZaoRRqxv",
        "outputId": "1e2354dd-bfa3-4230-f2fe-6adfbe8bf37f"
      },
      "execution_count": 75,
      "outputs": [
        {
          "output_type": "stream",
          "name": "stdout",
          "text": [
            "14165544\n"
          ]
        }
      ]
    },
    {
      "cell_type": "code",
      "source": [
        "with open(\"practice.txt\", \"r\") as data:\n",
        "  print (data.read())"
      ],
      "metadata": {
        "colab": {
          "base_uri": "https://localhost:8080/"
        },
        "id": "TqHk1vVCVCTW",
        "outputId": "c78075eb-91a4-4502-b94f-7fea56e63ea9"
      },
      "execution_count": 77,
      "outputs": [
        {
          "output_type": "stream",
          "name": "stdout",
          "text": [
            "Bravely bold Sir Robin rode forth from Camelot\n",
            "Yes, brave Sir Robin turned about\n",
            "He was not afraid to die, O brave Sir Robin\n",
            "And gallantly he chickened out\n",
            "He was not at all afraid to be killed in nasty ways\n",
            "Bravely talking to his feet\n",
            "Brave, brave, brave, brave Sir Robin\n",
            "He beat a very brave retreat\n"
          ]
        }
      ]
    },
    {
      "cell_type": "code",
      "source": [
        "with open(\"practice.txt\",\"r\") as data:\n",
        "\n",
        "    #print(data.read())\n",
        "\n",
        "    #print(data.readline())\n",
        "\n",
        "    print(data.readlines())\n"
      ],
      "metadata": {
        "colab": {
          "base_uri": "https://localhost:8080/"
        },
        "id": "0yyMJ0-2WrDl",
        "outputId": "d7960e6f-b11b-4e0e-bfe3-e3cb2b88d64a"
      },
      "execution_count": 83,
      "outputs": [
        {
          "output_type": "stream",
          "name": "stdout",
          "text": [
            "['Bravely bold Sir Robin rode forth from Camelot\\n', 'Yes, brave Sir Robin turned about\\n', 'He was not afraid to die, O brave Sir Robin\\n', 'And gallantly he chickened out\\n', 'He was not at all afraid to be killed in nasty ways\\n', 'Bravely talking to his feet\\n', 'Brave, brave, brave, brave Sir Robin\\n', 'He beat a very brave retreat']\n"
          ]
        }
      ]
    },
    {
      "cell_type": "code",
      "source": [
        "line_number = 1\n",
        "with open(\"practice.txt\",\"r\") as data:\n",
        "  for line in data:\n",
        "    if line_number % 2 == 0:\n",
        "      print(line.strip())\n",
        "    line_number += 1\n"
      ],
      "metadata": {
        "colab": {
          "base_uri": "https://localhost:8080/"
        },
        "id": "5CxwxiF3YEFe",
        "outputId": "d1ccf3c5-dfea-45dc-e9d2-e022060a1820"
      },
      "execution_count": 109,
      "outputs": [
        {
          "output_type": "stream",
          "name": "stdout",
          "text": [
            "Yes, brave Sir Robin turned about\n",
            "And gallantly he chickened out\n",
            "Bravely talking to his feet\n",
            "He beat a very brave retreat\n"
          ]
        }
      ]
    },
    {
      "cell_type": "code",
      "source": [
        "with open(\"rosalind_ini5.txt\", \"r\") as data:\n",
        "  lines = data.readlines()\n",
        "  print (line)\n",
        ""
      ],
      "metadata": {
        "colab": {
          "base_uri": "https://localhost:8080/"
        },
        "id": "_eiVbodLYkC8",
        "outputId": "dbabb48c-9406-4fab-b9b8-f1d8481c1e0d"
      },
      "execution_count": 86,
      "outputs": [
        {
          "output_type": "stream",
          "name": "stdout",
          "text": [
            "And always look on the right side of life\n",
            "\n"
          ]
        }
      ]
    },
    {
      "cell_type": "code",
      "source": [
        "line_number = 1\n",
        "with open(\"rosalind_ini5.txt\",\"r\") as data:\n",
        "  for line in data:\n",
        "    if line_number % 2 == 0:\n",
        "      print(line.strip())\n",
        "    line_number += 1"
      ],
      "metadata": {
        "colab": {
          "base_uri": "https://localhost:8080/"
        },
        "id": "WG_5N8S4Zstu",
        "outputId": "ac8fb41c-a8df-4623-8103-3412272f3c41"
      },
      "execution_count": 112,
      "outputs": [
        {
          "output_type": "stream",
          "name": "stdout",
          "text": [
            "Some things in life are bad, they can really make you mad\n",
            "Other things just make you swear and curse\n",
            "When you're chewing on life's gristle, don't grumble give a whistle\n",
            "This will help things turn out for the best\n",
            "Always look on the bright side of life\n",
            "Always look on the right side of life\n",
            "If life seems jolly rotten, there's something you've forgotten\n",
            "And that's to laugh and smile and dance and sing\n",
            "When you're feeling in the dumps, don't be silly, chumps\n",
            "Just purse your lips and whistle, that's the thing\n",
            "So, always look on the bright side of death\n",
            "Just before you draw your terminal breath\n",
            "Life's a counterfeit and when you look at it\n",
            "Life's a laugh and death's the joke, it's true\n",
            "You see, it's all a show, keep them laughing as you go\n",
            "Just remember the last laugh is on you\n",
            "Always look on the bright side of life\n",
            "And always look on the right side of life\n",
            "Always look on the bright side of life\n",
            "And always look on the right side of life\n"
          ]
        }
      ]
    },
    {
      "cell_type": "code",
      "source": [
        "word= \"Hello\"\n",
        "for letter in word:\n",
        "  print (letter)"
      ],
      "metadata": {
        "colab": {
          "base_uri": "https://localhost:8080/"
        },
        "id": "8SadRdkEcU7V",
        "outputId": "5c2f0668-f378-4921-f63b-2b7fda62c8b2"
      },
      "execution_count": 113,
      "outputs": [
        {
          "output_type": "stream",
          "name": "stdout",
          "text": [
            "H\n",
            "e\n",
            "l\n",
            "l\n",
            "o\n"
          ]
        }
      ]
    },
    {
      "cell_type": "code",
      "source": [
        "with open(\"practice_5.txt\", \"r\") as data:\n",
        "  lines = data.readlines()\n",
        "  print (lines)"
      ],
      "metadata": {
        "colab": {
          "base_uri": "https://localhost:8080/"
        },
        "id": "zVxUAqE8eAIz",
        "outputId": "21508dca-ff85-4cf7-e616-d47dba6fadd7"
      },
      "execution_count": 116,
      "outputs": [
        {
          "output_type": "stream",
          "name": "stdout",
          "text": [
            "['We \\n', 'tried \\n', 'list \\n', 'and \\n', 'we \\n', 'tried \\n', 'dicts \\n', 'also \\n', 'we \\n', 'tried \\n', 'Zen']\n"
          ]
        }
      ]
    },
    {
      "cell_type": "code",
      "source": [
        "with open(\"practice_5.txt\", \"r\") as data:\n",
        "  lines = data.read()\n",
        "for line in line.split():\n",
        "    print (word)"
      ],
      "metadata": {
        "colab": {
          "base_uri": "https://localhost:8080/"
        },
        "id": "ke3s1CLnemij",
        "outputId": "f9149c5b-80b6-4562-e17b-3a380c161e49"
      },
      "execution_count": 119,
      "outputs": [
        {
          "output_type": "stream",
          "name": "stdout",
          "text": [
            "Hello\n"
          ]
        }
      ]
    },
    {
      "cell_type": "code",
      "source": [
        "with open(\"practice_5.txt\",\"r\") as data:\n",
        "\n",
        "  line=data.read()\n",
        "\n",
        "for word in line.split():\n",
        "    print (word)\n",
        ""
      ],
      "metadata": {
        "colab": {
          "base_uri": "https://localhost:8080/"
        },
        "id": "svWcfJgCexyA",
        "outputId": "7352ffba-88ac-4a30-b6d7-1f35a7880b39"
      },
      "execution_count": 120,
      "outputs": [
        {
          "output_type": "stream",
          "name": "stdout",
          "text": [
            "We\n",
            "tried\n",
            "list\n",
            "and\n",
            "we\n",
            "tried\n",
            "dicts\n",
            "also\n",
            "we\n",
            "tried\n",
            "Zen\n"
          ]
        }
      ]
    },
    {
      "cell_type": "code",
      "source": [
        "print (my_list)"
      ],
      "metadata": {
        "colab": {
          "base_uri": "https://localhost:8080/"
        },
        "id": "wie4R-REfFRi",
        "outputId": "7963fcb7-b0f9-47b4-a62c-5e998a0b6959"
      },
      "execution_count": 121,
      "outputs": [
        {
          "output_type": "stream",
          "name": "stdout",
          "text": [
            "['Hello', 'Biology', 'World', 'Alfred Wallace', 'Charles Dawin']\n"
          ]
        }
      ]
    },
    {
      "cell_type": "code",
      "source": [
        "sequences = {\n",
        "    \"H.neandertalensis\":\"ACGTCGCTCTGCTA\",\n",
        "    \"H.sapiens\":\"ACGTCACTCTGCTA\"\n",
        "    }\n",
        "\n",
        "print (sequences)"
      ],
      "metadata": {
        "colab": {
          "base_uri": "https://localhost:8080/"
        },
        "id": "WE5Vnx1tfSIC",
        "outputId": "d5d6b128-931c-4e65-8db5-898d028cb9e3"
      },
      "execution_count": 122,
      "outputs": [
        {
          "output_type": "stream",
          "name": "stdout",
          "text": [
            "{'H.neandertalensis': 'ACGTCGCTCTGCTA', 'H.sapiens': 'ACGTCACTCTGCTA'}\n"
          ]
        }
      ]
    },
    {
      "cell_type": "code",
      "source": [
        "sequences.update({\"G. gorilla\":\"ACGTCCTCCTA\", \"H.erectus\":\"ACGTCACTCTGCTA\"})"
      ],
      "metadata": {
        "id": "0VsWxRY5fgCU"
      },
      "execution_count": 123,
      "outputs": []
    },
    {
      "cell_type": "code",
      "source": [
        "print (sequences)\n",
        "\n"
      ],
      "metadata": {
        "colab": {
          "base_uri": "https://localhost:8080/"
        },
        "id": "gdixXegKgSXJ",
        "outputId": "ae0b2780-fe3b-41f9-cac4-6e86724bca4a"
      },
      "execution_count": 126,
      "outputs": [
        {
          "output_type": "stream",
          "name": "stdout",
          "text": [
            "{'H.neandertalensis': 'ACGTCGCTCTGCTA', 'H.sapiens': 'ACGTCACTCTGCTA', 'G. gorilla': 'ACGTCCTCCTA', 'H.erectus': 'ACGTCACTCTGCTA', 'P.troglodytes': 'ACGTCACTCTCCTA'}\n"
          ]
        }
      ]
    },
    {
      "cell_type": "code",
      "source": [
        "sequences[\"P.troglodytes\"]=\"ACGTCACTCTCCTA\""
      ],
      "metadata": {
        "id": "SxlSnWo7gUcx"
      },
      "execution_count": 125,
      "outputs": []
    },
    {
      "cell_type": "code",
      "source": [
        "print (sequences[\"H.sapiens\"])"
      ],
      "metadata": {
        "colab": {
          "base_uri": "https://localhost:8080/"
        },
        "id": "Nfo7U-55gsPd",
        "outputId": "9f6ebc5f-b6cf-4843-9145-2f05aaa74ca8"
      },
      "execution_count": 129,
      "outputs": [
        {
          "output_type": "stream",
          "name": "stdout",
          "text": [
            "ACGTCACTCTGCTA\n"
          ]
        }
      ]
    },
    {
      "cell_type": "code",
      "source": [
        "for key,value in sequences.items():\n",
        "  print (key,value)"
      ],
      "metadata": {
        "colab": {
          "base_uri": "https://localhost:8080/"
        },
        "id": "McfvTpbjg2wC",
        "outputId": "ceef568e-c5ae-4b13-9574-cd42bd2b5668"
      },
      "execution_count": 130,
      "outputs": [
        {
          "output_type": "stream",
          "name": "stdout",
          "text": [
            "H.neandertalensis ACGTCGCTCTGCTA\n",
            "H.sapiens ACGTCACTCTGCTA\n",
            "G. gorilla ACGTCCTCCTA\n",
            "H.erectus ACGTCACTCTGCTA\n",
            "P.troglodytes ACGTCACTCTCCTA\n"
          ]
        }
      ]
    },
    {
      "cell_type": "code",
      "source": [
        "with open(\"rosalind_ini6.txt\", \"r\") as data:\n",
        "  line = data.readline()\n",
        "  word_counts = {}\n",
        "  for word in line.strip().split():\n",
        "    if word in word_counts:\n",
        "      word_counts[word] += 1\n",
        "    else:\n",
        "      word_counts[word] = 1\n",
        "for word, count in word_counts.items():\n",
        "  print (f\"{word} {count}\")\n"
      ],
      "metadata": {
        "colab": {
          "base_uri": "https://localhost:8080/"
        },
        "id": "Q0-s4VKVhK5x",
        "outputId": "e43c2c78-728b-44e1-b2ff-276442dba3a5"
      },
      "execution_count": 138,
      "outputs": [
        {
          "output_type": "stream",
          "name": "stdout",
          "text": [
            "When 1\n",
            "I 2\n",
            "find 1\n",
            "myself 1\n",
            "in 4\n",
            "times 1\n",
            "of 11\n",
            "trouble 1\n",
            "Mother 2\n",
            "Mary 2\n",
            "comes 2\n",
            "to 3\n",
            "me 4\n",
            "Speaking 3\n",
            "words 7\n",
            "wisdom 7\n",
            "let 30\n",
            "it 36\n",
            "be 41\n",
            "And 3\n",
            "my 1\n",
            "hour 1\n",
            "darkness 1\n",
            "she 1\n",
            "is 4\n",
            "standing 1\n",
            "right 1\n",
            "front 1\n",
            "Let 6\n",
            "Whisper 4\n",
            "when 2\n",
            "the 4\n",
            "broken 1\n",
            "hearted 1\n",
            "people 1\n",
            "living 1\n",
            "world 1\n",
            "agree 1\n",
            "There 4\n",
            "will 5\n",
            "an 4\n",
            "answer 4\n",
            "For 1\n",
            "though 1\n",
            "they 2\n",
            "may 1\n",
            "parted 1\n",
            "there 2\n",
            "still 2\n",
            "a 2\n",
            "chance 1\n",
            "that 2\n",
            "see 1\n",
            "night 1\n",
            "cloudy 1\n",
            "light 1\n",
            "shines 1\n",
            "on 1\n",
            "Shine 1\n",
            "until 1\n",
            "tomorrow 1\n",
            "wake 1\n",
            "up 1\n",
            "sound 1\n",
            "music 1\n",
            "yeah 2\n"
          ]
        }
      ]
    },
    {
      "cell_type": "code",
      "source": [],
      "metadata": {
        "id": "of17Mnz2iWZO"
      },
      "execution_count": null,
      "outputs": []
    }
  ],
  "metadata": {
    "colab": {
      "provenance": [],
      "authorship_tag": "ABX9TyP6yKDZKTHh6uWTIiN4Pep2",
      "include_colab_link": true
    },
    "kernelspec": {
      "display_name": "Python 3",
      "name": "python3"
    },
    "language_info": {
      "name": "python"
    }
  },
  "nbformat": 4,
  "nbformat_minor": 0
}