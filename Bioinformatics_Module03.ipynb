{
  "cells": [
    {
      "cell_type": "markdown",
      "metadata": {
        "id": "view-in-github",
        "colab_type": "text"
      },
      "source": [
        "<a href=\"https://colab.research.google.com/github/garrett-davidson-16/beginning-bioinformatics/blob/main/Bioinformatics_Module03.ipynb\" target=\"_parent\"><img src=\"https://colab.research.google.com/assets/colab-badge.svg\" alt=\"Open In Colab\"/></a>"
      ]
    },
    {
      "cell_type": "code",
      "execution_count": null,
      "metadata": {
        "colab": {
          "base_uri": "https://localhost:8080/"
        },
        "id": "MFwQkXm0lvs6",
        "outputId": "853155ac-4516-4094-9de1-5e8230e3953d"
      },
      "outputs": [
        {
          "name": "stdout",
          "output_type": "stream",
          "text": [
            "hello world\n"
          ]
        }
      ],
      "source": [
        "print (\"hello world\")"
      ]
    },
    {
      "cell_type": "code",
      "execution_count": null,
      "metadata": {
        "colab": {
          "base_uri": "https://localhost:8080/"
        },
        "id": "fPwZGVZqmDyt",
        "outputId": "dded76c3-1127-4015-aa2b-309928049275"
      },
      "outputs": [
        {
          "name": "stdout",
          "output_type": "stream",
          "text": [
            "13\n"
          ]
        }
      ],
      "source": [
        "a=2\n",
        "b=3\n",
        "c = a**2 + b**2\n",
        "print(c)"
      ]
    },
    {
      "cell_type": "code",
      "execution_count": null,
      "metadata": {
        "colab": {
          "base_uri": "https://localhost:8080/"
        },
        "id": "0b4ca17b",
        "outputId": "4a82f80e-c30d-4736-d10e-7f072ab84202"
      },
      "outputs": [
        {
          "name": "stdout",
          "output_type": "stream",
          "text": [
            "Enter your name: Allison\n",
            "Hello, Allison\n"
          ]
        }
      ],
      "source": [
        "name = input(\"Enter your name: \")\n",
        "print(\"Hello, \" + name)"
      ]
    },
    {
      "cell_type": "code",
      "execution_count": null,
      "metadata": {
        "colab": {
          "base_uri": "https://localhost:8080/"
        },
        "id": "I1gZ6QEh--ii",
        "outputId": "88e5cb70-dc37-480d-eeff-a5026fde4990"
      },
      "outputs": [
        {
          "name": "stdout",
          "output_type": "stream",
          "text": [
            "a= 3\n",
            "b= 4\n",
            "The square of the hypotenuse is 25\n"
          ]
        }
      ],
      "source": [
        "a = int(input(\"a= \"))\n",
        "b = int(input(\"b= \"))\n",
        "c = a**2 + b**2\n",
        "print (\"The square of the hypotenuse is\",c)"
      ]
    },
    {
      "cell_type": "code",
      "execution_count": null,
      "metadata": {
        "colab": {
          "base_uri": "https://localhost:8080/"
        },
        "id": "KB8SKdI5_0wp",
        "outputId": "741c1871-7bdc-4d47-87d1-4f65998f2d42"
      },
      "outputs": [
        {
          "name": "stdout",
          "output_type": "stream",
          "text": [
            "World\n"
          ]
        }
      ],
      "source": [
        "my_list = [\"Hello\", \"World\", \"Charles Darwin\"]\n",
        "print(my_list[1])"
      ]
    },
    {
      "cell_type": "code",
      "execution_count": null,
      "metadata": {
        "colab": {
          "base_uri": "https://localhost:8080/"
        },
        "id": "bG8hoLWrE9c9",
        "outputId": "7fb2b47b-81d7-441e-8c74-39c91d912cd4"
      },
      "outputs": [
        {
          "name": "stdout",
          "output_type": "stream",
          "text": [
            "['Hello', 'World', 'Alfred Wallace']\n"
          ]
        }
      ],
      "source": [
        "my_list[2] = \"Alfred Wallace\"\n",
        "print(my_list)"
      ]
    },
    {
      "cell_type": "code",
      "execution_count": null,
      "metadata": {
        "colab": {
          "base_uri": "https://localhost:8080/"
        },
        "id": "1AdyN0cvFqpf",
        "outputId": "fccfcbe9-f633-4e4b-b3dc-18507e0aa329"
      },
      "outputs": [
        {
          "name": "stdout",
          "output_type": "stream",
          "text": [
            "['Hello', 'World', 'Alfred Wallace', 'Charles Dawin']\n"
          ]
        }
      ],
      "source": [
        "my_list.append(\"Charles Dawin\")\n",
        "print(my_list)"
      ]
    },
    {
      "cell_type": "code",
      "execution_count": null,
      "metadata": {
        "colab": {
          "base_uri": "https://localhost:8080/"
        },
        "id": "as56odZhGe0D",
        "outputId": "572da0df-1c94-4116-da76-762840b7dadf"
      },
      "outputs": [
        {
          "name": "stdout",
          "output_type": "stream",
          "text": [
            "['B', 'i', 'o', 'l', 'o', 'g', 'y', 'i', 'o', 'l', 'o', 'g', 'y', 'World', 'Alfred Wallace', 'Charles Dawin']\n"
          ]
        }
      ],
      "source": [
        "my_list[0:1] = \"Biology\"\n",
        "print (my_list)"
      ]
    },
    {
      "cell_type": "code",
      "execution_count": null,
      "metadata": {
        "colab": {
          "base_uri": "https://localhost:8080/"
        },
        "id": "dYtTiIeYHMq2",
        "outputId": "bb3cff25-c8f4-41af-cb5d-8c1e29991a6b"
      },
      "outputs": [
        {
          "name": "stdout",
          "output_type": "stream",
          "text": [
            "['i', 'o', 'l', 'o', 'g', 'y', 'i', 'o', 'l', 'o', 'g', 'y', 'World', 'Alfred Wallace', 'Charles Dawin']\n"
          ]
        }
      ],
      "source": [
        "my_list.remove (\"B\")\n",
        "print (my_list)"
      ]
    },
    {
      "cell_type": "code",
      "execution_count": null,
      "metadata": {
        "colab": {
          "base_uri": "https://localhost:8080/"
        },
        "id": "WNJ_6jfMH1iA",
        "outputId": "db92ef84-3e6f-459f-ac55-98aeaead80dc"
      },
      "outputs": [
        {
          "name": "stdout",
          "output_type": "stream",
          "text": [
            "['o', 'l', 'o', 'g', 'y', 'i', 'o', 'l', 'o', 'g', 'y', 'World', 'Alfred Wallace', 'Charles Dawin']\n"
          ]
        }
      ],
      "source": [
        "my_list.remove (\"i\")\n",
        "print (my_list)"
      ]
    },
    {
      "cell_type": "code",
      "execution_count": null,
      "metadata": {
        "colab": {
          "base_uri": "https://localhost:8080/"
        },
        "id": "sDKyoPHPJN2T",
        "outputId": "bfb5402e-bddd-4c78-bef8-2b9d2e5706d6"
      },
      "outputs": [
        {
          "name": "stdout",
          "output_type": "stream",
          "text": [
            "['l', 'o', 'g', 'y', 'i', 'o', 'l', 'o', 'g', 'y', 'World', 'Alfred Wallace', 'Charles Dawin']\n"
          ]
        }
      ],
      "source": [
        "my_list.remove (\"o\")\n",
        "print (my_list)"
      ]
    },
    {
      "cell_type": "code",
      "execution_count": null,
      "metadata": {
        "colab": {
          "base_uri": "https://localhost:8080/"
        },
        "id": "o0vk3XBLJT90",
        "outputId": "bef02af8-7019-4eaa-c02e-23d8abda566b"
      },
      "outputs": [
        {
          "name": "stdout",
          "output_type": "stream",
          "text": [
            "['World', 'Alfred Wallace', 'Charles Dawin']\n"
          ]
        }
      ],
      "source": [
        "my_list.remove (\"l\")\n",
        "my_list.remove (\"o\")\n",
        "my_list.remove (\"g\")\n",
        "my_list.remove (\"y\")\n",
        "my_list.remove (\"i\")\n",
        "my_list.remove (\"o\")\n",
        "my_list.remove (\"l\")\n",
        "my_list.remove (\"o\")\n",
        "my_list.remove (\"g\")\n",
        "my_list.remove (\"y\")\n",
        "print (my_list)"
      ]
    },
    {
      "cell_type": "markdown",
      "metadata": {
        "id": "Y3ESi8voJ-E8"
      },
      "source": []
    },
    {
      "cell_type": "code",
      "execution_count": null,
      "metadata": {
        "colab": {
          "base_uri": "https://localhost:8080/"
        },
        "id": "gbNfG1NGJhsu",
        "outputId": "334a8e38-b23e-48b0-954e-51e9f59583a9"
      },
      "outputs": [
        {
          "name": "stdout",
          "output_type": "stream",
          "text": [
            "['Hello', 'World', 'Alfred Wallace', 'Charles Dawin']\n"
          ]
        }
      ],
      "source": [
        "my_list.insert (0, \"Hello\")\n",
        "print (my_list)"
      ]
    },
    {
      "cell_type": "markdown",
      "metadata": {
        "id": "Wd3_O8JSJlxb"
      },
      "source": []
    },
    {
      "cell_type": "code",
      "execution_count": null,
      "metadata": {
        "colab": {
          "base_uri": "https://localhost:8080/"
        },
        "id": "rJw80fgjKJHO",
        "outputId": "d858a524-f755-48d5-b2d1-8e94a4287cc0"
      },
      "outputs": [
        {
          "name": "stdout",
          "output_type": "stream",
          "text": [
            "['Hello', 'Biology', 'Hello', 'Hello', 'World', 'Alfred Wallace', 'Charles Dawin']\n"
          ]
        }
      ],
      "source": [
        "my_list.insert (1, \"Biology\")\n",
        "print (my_list)"
      ]
    },
    {
      "cell_type": "code",
      "execution_count": null,
      "metadata": {
        "colab": {
          "base_uri": "https://localhost:8080/"
        },
        "id": "aaU3EnzEKN6v",
        "outputId": "292fe989-4710-4f89-f522-1dc4e3fe6b1c"
      },
      "outputs": [
        {
          "name": "stdout",
          "output_type": "stream",
          "text": [
            "['Biology', 'World', 'Alfred Wallace', 'Charles Dawin']\n"
          ]
        }
      ],
      "source": [
        "my_list.remove ('Hello')\n",
        "print (my_list)"
      ]
    },
    {
      "cell_type": "code",
      "execution_count": null,
      "metadata": {
        "colab": {
          "base_uri": "https://localhost:8080/"
        },
        "id": "taSoXfGMKcaA",
        "outputId": "3bffe5fa-bc35-4317-83bd-864b951f4830"
      },
      "outputs": [
        {
          "name": "stdout",
          "output_type": "stream",
          "text": [
            "['Hello', 'Biology', 'World', 'Alfred Wallace', 'Charles Dawin']\n"
          ]
        }
      ],
      "source": [
        "my_list.insert (0, \"Hello\")\n",
        "print (my_list )"
      ]
    },
    {
      "cell_type": "code",
      "execution_count": null,
      "metadata": {
        "colab": {
          "base_uri": "https://localhost:8080/"
        },
        "id": "_fR7zpD6K7kD",
        "outputId": "d43e0b1b-c3e7-44cd-b3ec-012861a5f06c"
      },
      "outputs": [
        {
          "name": "stdout",
          "output_type": "stream",
          "text": [
            "['World', 'Alfred Wallace']\n"
          ]
        }
      ],
      "source": [
        "print (my_list[2:4])"
      ]
    },
    {
      "cell_type": "code",
      "execution_count": null,
      "metadata": {
        "colab": {
          "base_uri": "https://localhost:8080/"
        },
        "id": "vQMWL-pbLDX3",
        "outputId": "8cd2bfe5-bc61-42de-d3dd-04db42c6d13b"
      },
      "outputs": [
        {
          "name": "stdout",
          "output_type": "stream",
          "text": [
            "Hello World\n"
          ]
        }
      ],
      "source": [
        "my_string = \"HelloWorldCharlesDarwinAlfred R. Wallace\"\n",
        "print (my_string[0:5],my_string [5:10])"
      ]
    },
    {
      "cell_type": "code",
      "execution_count": null,
      "metadata": {
        "colab": {
          "base_uri": "https://localhost:8080/"
        },
        "id": "v6g-iGytLiAW",
        "outputId": "da6c939d-48a8-44e3-cfb8-fccd3d03f519"
      },
      "outputs": [
        {
          "name": "stdout",
          "output_type": "stream",
          "text": [
            "Wallace World\n"
          ]
        }
      ],
      "source": [
        "print (my_string [33:], my_string [5:10])"
      ]
    },
    {
      "cell_type": "code",
      "execution_count": null,
      "metadata": {
        "colab": {
          "base_uri": "https://localhost:8080/"
        },
        "id": "5GzfaoxaLyCd",
        "outputId": "ea41208f-7d1e-4509-d21f-b34b81e20df1"
      },
      "outputs": [
        {
          "name": "stdout",
          "output_type": "stream",
          "text": [
            "Gallinago arvensis\n"
          ]
        }
      ],
      "source": [
        "my_string = \"vH3WliMNlGt1ZUlvy70Gallinagoa2cfsKTgL2KhoDcXCpVyqRZhXVQYyOyaQz51s5L0nJBarvensisMIkSiRjGjteOivi7OolSuIvNK8xxq7ZuzhfYkkjIYa4lqIlUsM9VLXdDsqO71LvDE1CZxDcmKOcVyU3NxFQK26BLu4\"\n",
        "print (my_string [19:28],my_string [71:79])"
      ]
    },
    {
      "cell_type": "code",
      "execution_count": null,
      "metadata": {
        "colab": {
          "base_uri": "https://localhost:8080/"
        },
        "id": "yQwcnj79MYXD",
        "outputId": "e82bed74-5d65-4716-84c7-eccc06984407"
      },
      "outputs": [
        {
          "name": "stdout",
          "output_type": "stream",
          "text": [
            "10\n"
          ]
        }
      ],
      "source": [
        "a=5\n",
        "b=5\n",
        "\n",
        "if a!=b:\n",
        "    print (a-b)\n",
        "\n",
        "else:\n",
        "    print (a+b)"
      ]
    },
    {
      "cell_type": "code",
      "execution_count": 54,
      "metadata": {
        "colab": {
          "base_uri": "https://localhost:8080/"
        },
        "id": "sukJyPUlOE7F",
        "outputId": "75473af3-c914-4fb2-9692-7661f9cde18f"
      },
      "outputs": [
        {
          "output_type": "stream",
          "name": "stdout",
          "text": [
            "Counting!\n",
            "Counting!Counting!\n",
            "Counting!Counting!Counting!\n"
          ]
        }
      ],
      "source": [
        "#initiate a counter\n",
        "a = 1\n",
        "\n",
        "#print \"Counting!\" while a<=3\n",
        "while a <= 3:\n",
        "\n",
        "    print (\"Counting!\" * a)\n",
        "    a += 1\n"
      ]
    },
    {
      "cell_type": "code",
      "source": [
        "names = [\"Alice\",\"Bob\",\"Charley\"]\n",
        "\n",
        "for name in names:\n",
        "  print (\"Hello\", name)\n"
      ],
      "metadata": {
        "colab": {
          "base_uri": "https://localhost:8080/"
        },
        "id": "6-o14G7BPmsC",
        "outputId": "6d9ccf91-ee15-4dd2-a77b-b9e85dbce34b"
      },
      "execution_count": 56,
      "outputs": [
        {
          "output_type": "stream",
          "name": "stdout",
          "text": [
            "Hello Alice\n",
            "Hello Bob\n",
            "Hello Charley\n"
          ]
        }
      ]
    },
    {
      "cell_type": "markdown",
      "source": [],
      "metadata": {
        "id": "ZKSD0a1LQGpd"
      }
    },
    {
      "cell_type": "code",
      "source": [
        "iterations = 10\n",
        "for number in range(iterations):\n",
        "  print (number)\n"
      ],
      "metadata": {
        "colab": {
          "base_uri": "https://localhost:8080/"
        },
        "id": "TsQTIW-xQV5R",
        "outputId": "3c306b0f-9f91-4d1c-caa0-b0d9133ad8eb"
      },
      "execution_count": 58,
      "outputs": [
        {
          "output_type": "stream",
          "name": "stdout",
          "text": [
            "0\n",
            "1\n",
            "2\n",
            "3\n",
            "4\n",
            "5\n",
            "6\n",
            "7\n",
            "8\n",
            "9\n"
          ]
        }
      ]
    },
    {
      "cell_type": "code",
      "source": [
        "for number in range(9,28,3):\n",
        "  print (number)"
      ],
      "metadata": {
        "colab": {
          "base_uri": "https://localhost:8080/"
        },
        "id": "gK0YN572Qkl0",
        "outputId": "5eebd732-b1f6-4335-c86d-f2eacd0e0d8f"
      },
      "execution_count": 60,
      "outputs": [
        {
          "output_type": "stream",
          "name": "stdout",
          "text": [
            "9\n",
            "12\n",
            "15\n",
            "18\n",
            "21\n",
            "24\n",
            "27\n"
          ]
        }
      ]
    },
    {
      "cell_type": "code",
      "source": [
        "total= 0\n",
        "for number in range(101,200,2):\n",
        "  total += number\n",
        "print (total)"
      ],
      "metadata": {
        "colab": {
          "base_uri": "https://localhost:8080/"
        },
        "id": "GtFVErmlRRwm",
        "outputId": "45bdd85d-d768-4b26-8b07-7749164a698c"
      },
      "execution_count": 72,
      "outputs": [
        {
          "output_type": "stream",
          "name": "stdout",
          "text": [
            "7500\n"
          ]
        }
      ]
    },
    {
      "cell_type": "code",
      "source": [
        "total= 0\n",
        "for number in range(4311,8674,2):\n",
        "  total += number\n",
        "print (total)"
      ],
      "metadata": {
        "colab": {
          "base_uri": "https://localhost:8080/"
        },
        "id": "-lQxZaoRRqxv",
        "outputId": "1e2354dd-bfa3-4230-f2fe-6adfbe8bf37f"
      },
      "execution_count": 75,
      "outputs": [
        {
          "output_type": "stream",
          "name": "stdout",
          "text": [
            "14165544\n"
          ]
        }
      ]
    },
    {
      "cell_type": "code",
      "source": [],
      "metadata": {
        "id": "TqHk1vVCVCTW"
      },
      "execution_count": null,
      "outputs": []
    }
  ],
  "metadata": {
    "colab": {
      "provenance": [],
      "authorship_tag": "ABX9TyPPBhDzJCjZeQ1kJpkXYM5N",
      "include_colab_link": true
    },
    "kernelspec": {
      "display_name": "Python 3",
      "name": "python3"
    },
    "language_info": {
      "name": "python"
    }
  },
  "nbformat": 4,
  "nbformat_minor": 0
}